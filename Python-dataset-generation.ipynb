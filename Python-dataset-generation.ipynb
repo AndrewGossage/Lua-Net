{
 "cells": [
  {
   "cell_type": "code",
   "execution_count": 3,
   "id": "9c4ae9e6-a516-420c-9cb6-011a0483a90b",
   "metadata": {},
   "outputs": [],
   "source": [
    "from sklearn.datasets import make_regression\n"
   ]
  },
  {
   "cell_type": "code",
   "execution_count": 4,
   "id": "5db41395-a27b-4cf8-ac80-31e81e647989",
   "metadata": {},
   "outputs": [],
   "source": [
    "dset = make_regression(n_samples = 1000, n_features=2, n_informative=2, n_targets=1)"
   ]
  },
  {
   "cell_type": "code",
   "execution_count": 5,
   "id": "2e80d1c8-4204-4c62-9587-2626e9d65f13",
   "metadata": {},
   "outputs": [
    {
     "data": {
      "text/plain": [
       "array([[ 1.25077419e+00, -1.30468991e-01],\n",
       "       [-3.65917548e-01, -1.61535643e+00],\n",
       "       [ 5.88183354e-01,  1.57639111e+00],\n",
       "       ...,\n",
       "       [ 1.98780903e+00,  7.30080932e-01],\n",
       "       [ 1.37408005e+00, -9.44001414e-04],\n",
       "       [ 3.17997781e-01,  9.59562857e-01]])"
      ]
     },
     "execution_count": 5,
     "metadata": {},
     "output_type": "execute_result"
    }
   ],
   "source": [
    "dset[0]"
   ]
  },
  {
   "cell_type": "code",
   "execution_count": 1,
   "id": "cd53248b-d079-4914-8bf7-07d62a8210c9",
   "metadata": {},
   "outputs": [],
   "source": [
    "import pandas as pd"
   ]
  },
  {
   "cell_type": "code",
   "execution_count": 6,
   "id": "ad3e3c2d-b6c6-4dc9-a732-560003462aef",
   "metadata": {},
   "outputs": [],
   "source": [
    "df = pd.DataFrame(dset[0])"
   ]
  },
  {
   "cell_type": "code",
   "execution_count": 9,
   "id": "75199295-8dcd-421a-ad12-1d03fbdac26f",
   "metadata": {},
   "outputs": [],
   "source": [
    "df.to_csv('input.csv', index=False)"
   ]
  },
  {
   "cell_type": "code",
   "execution_count": 10,
   "id": "17968240-8181-455d-a7cc-59506cf8760a",
   "metadata": {},
   "outputs": [],
   "source": [
    "df = pd.DataFrame(dset[1])"
   ]
  },
  {
   "cell_type": "code",
   "execution_count": 12,
   "id": "9396b1b3-4df5-4961-863e-f3d81af79eac",
   "metadata": {},
   "outputs": [],
   "source": [
    "df.to_csv('target.csv', index=False)"
   ]
  },
  {
   "cell_type": "code",
   "execution_count": null,
   "id": "254ac8e0-48a8-4b8b-a2a7-9aae3ee9ef8e",
   "metadata": {},
   "outputs": [],
   "source": []
  }
 ],
 "metadata": {
  "kernelspec": {
   "display_name": "Python 3 (ipykernel)",
   "language": "python",
   "name": "python3"
  },
  "language_info": {
   "codemirror_mode": {
    "name": "ipython",
    "version": 3
   },
   "file_extension": ".py",
   "mimetype": "text/x-python",
   "name": "python",
   "nbconvert_exporter": "python",
   "pygments_lexer": "ipython3",
   "version": "3.8.13"
  }
 },
 "nbformat": 4,
 "nbformat_minor": 5
}
