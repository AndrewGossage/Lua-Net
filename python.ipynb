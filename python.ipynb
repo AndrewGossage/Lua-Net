{
 "cells": [
  {
   "cell_type": "code",
   "execution_count": 1,
   "id": "e5ed257d-c7a7-4a2b-821f-839ab3cd6f7e",
   "metadata": {},
   "outputs": [],
   "source": [
    "import numpy as np"
   ]
  },
  {
   "cell_type": "code",
   "execution_count": 2,
   "id": "d3514662-5210-4b40-bf26-580103fe155f",
   "metadata": {},
   "outputs": [],
   "source": [
    "class Net:\n",
    "    \n",
    "    def __init__(self, n):\n",
    "        self.n = n\n",
    "        return\n",
    "    def forward(self, data):\n",
    "        out = []\n",
    "        for i in data:\n",
    "            foo = i\n",
    "            for layer in self.n:\n",
    "                \n",
    "                foo = [np.dot(foo, neuron[0]) + neuron[1] for neuron in layer]\n",
    "            out.append(foo)\n",
    "                \n",
    "        return out\n",
    "    \n",
    "    def update_neuron_weights(self, error, neuron, iters):\n",
    "        return [[np.random.uniform(-( (i / error) ), ( i / error)) / min(error, i) + i for i in neuron[0]], np.random.uniform(-( neuron[1] / error), ( neuron[1] / error)) / min(error, neuron[1]) + neuron[1]]\n",
    "        \n",
    "        \n",
    "    def update_weights(self,error, iters):\n",
    "        \"\"\"Applies optimizer accross all nuerons\n",
    "        \n",
    "        \"\"\"\n",
    "        temp = []\n",
    "        for layer in self.n:\n",
    "                temp.append([self.update_neuron_weights(error,neuron,iters) for neuron in layer])\n",
    "        self.n = temp\n",
    "    \n",
    "    def find_error(self, X, y):\n",
    "        '''Returns sum of absolute errors\n",
    "            X: 2 dimensional array of data points\n",
    "            y: 1 dimensional array of target values \n",
    "        '''\n",
    "        return abs(sum((np.array(self.forward(X)).flatten() - y)))\n",
    "        \n",
    "    def train(self, X, y, error_per = .0001, max_iter = 10000, min_imp = 0.001):\n",
    "        '''Trains the neural net and returns a history of the net with sum of absolute errors\n",
    "            X: 2 dimensional array of data points\n",
    "            y: 1 dimensional array of target values\n",
    "            error_per: function will end if sum of absolute error drops below this threshold\n",
    "            max iter: maximum training iterations\n",
    "            min_imp: function will only treat an iteration as an improvement if the change is greater than the value\n",
    "            \n",
    "        '''\n",
    "        new_err = abs(self.find_error(X,y))\n",
    "        iters = 0\n",
    "        versions = []\n",
    "        while ((new_err > error_per) and (iters < max_iter)):\n",
    "            iters +=1\n",
    "            dist = self.find_error(X,y)\n",
    "            temp_n = self.n\n",
    "            versions.append([self.n, dist])\n",
    "            if (abs(dist) < abs(new_err - (new_err *min_imp))):\n",
    "                self.update_weights(dist, iters)\n",
    "                  #print (iters, dist, new_err)\n",
    "                new_err = abs(dist)\n",
    "                #print(np.array(self.forward(X)).flatten(),\"\\n\")\n",
    "                self.update_weights(dist, iters)\n",
    "                \n",
    "            else:\n",
    "                self.update_weights(dist, iters)\n",
    "        \n",
    "        arr = np.array([i[1] for i in versions])\n",
    "        m = min(arr)\n",
    "        ind = int(np.where(arr == m)[0])\n",
    "        n.n = versions[ind][0]\n",
    "        return versions\n",
    "            "
   ]
  },
  {
   "cell_type": "code",
   "execution_count": 5,
   "id": "7a797654-f101-46da-819f-d84c2c594a0a",
   "metadata": {},
   "outputs": [
    {
     "name": "stdout",
     "output_type": "stream",
     "text": [
      "pre train [[9], [17], [25]] 45\n",
      "post train [[9.249968184310369], [16.302941287008085], [23.355914389705795]] 42.908823861024246\n"
     ]
    },
    {
     "data": {
      "text/plain": [
       "1.0"
      ]
     },
     "execution_count": 5,
     "metadata": {},
     "output_type": "execute_result"
    }
   ],
   "source": [
    "nn = [\n",
    "\n",
    "    [\n",
    "        [[1,1,1,1],1],\n",
    "        [[1,1,1,1],1]\n",
    "        \n",
    "    ],\n",
    "    [\n",
    "        [[1,1],-1],\n",
    "        \n",
    "    ],\n",
    "\n",
    "]    \n",
    "n = Net(nn)\n",
    "X = [\n",
    "        [1,1,1,1],\n",
    "            \n",
    "            \n",
    "            \n",
    "        [2,2,2,2],\n",
    "        [3,3,3,3],\n",
    "    ]\n",
    "y = [1,2,3] \n",
    "print(\"pre train\", n.forward(X), n.find_error(X,y))\n",
    "n.train(X,y, error_per = 0.01, max_iter = 6000)\n",
    "print(\"post train\", n.forward(X), n.find_error(X,y))\n",
    "\n",
    "results = []\n",
    "mins = []\n",
    "for i in range(1000):\n",
    "    n = Net(nn)\n",
    "    history = n.train(X,y, error_per = 0.01, max_iter = 600)\n",
    "    arr = np.array([i[1] for i in history])\n",
    "    mins.append(min(arr))\n",
    "    results.append(int(n.find_error(X,y)) <= 45)\n",
    "sum(results) / len(results)\n"
   ]
  },
  {
   "cell_type": "code",
   "execution_count": 6,
   "id": "a4b0fa08-65c2-4eb2-9296-d8029802553c",
   "metadata": {},
   "outputs": [
    {
     "name": "stdout",
     "output_type": "stream",
     "text": [
      "Train the neural net and returns a history of the net with sum of absolute errors\n",
      "            X: 2 dimensional array of data points\n",
      "            y: 1 dimensional array of target values\n",
      "            error_per: function will end if sum of absolute error drops below this threshold\n",
      "            max iter: maximum training iterations\n",
      "            min_imp: function will only treat an iteration as an improvement if the change is greater than the value\n",
      "            \n",
      "        \n"
     ]
    }
   ],
   "source": [
    "n.train()"
   ]
  },
  {
   "cell_type": "code",
   "execution_count": null,
   "id": "44db6d43-ebce-4783-bead-110481760238",
   "metadata": {},
   "outputs": [],
   "source": []
  }
 ],
 "metadata": {
  "kernelspec": {
   "display_name": "Python 3 (ipykernel)",
   "language": "python",
   "name": "python3"
  },
  "language_info": {
   "codemirror_mode": {
    "name": "ipython",
    "version": 3
   },
   "file_extension": ".py",
   "mimetype": "text/x-python",
   "name": "python",
   "nbconvert_exporter": "python",
   "pygments_lexer": "ipython3",
   "version": "3.10.4"
  }
 },
 "nbformat": 4,
 "nbformat_minor": 5
}
