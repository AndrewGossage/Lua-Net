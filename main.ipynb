{
 "cells": [
  {
   "cell_type": "markdown",
   "id": "1b79a626-ab1a-49b0-a6c9-992f80916409",
   "metadata": {},
   "source": [
    "<h1>Feed Forward Neural Network</h1>"
   ]
  },
  {
   "cell_type": "markdown",
   "id": "6d06deca-4615-4d59-9125-1f6cc511ab72",
   "metadata": {},
   "source": [
    "<p>This is a very simple feed forward neural network that uses the relu activation function and gradient descent. The purpose of this project is to demonstrate an understanding of how neural networks work, as such the program is implemented from scratch in Lua. Lua was chosen specifically because it is minimalistic and so things as simple as reading a csv file had to be made almost from scratch. Although many better frameworks for building models exist this one has the advantage of running very quickly and being easy to use.</p>\n",
    "<p>Two external libraries included in the repo are required to run the project. The xeus-lua kernel was used to run this jupyter notebook.</p>"
   ]
  },
  {
   "cell_type": "markdown",
   "id": "758771b6-526b-4b26-b381-5a59b5d3c8f3",
   "metadata": {
    "tags": []
   },
   "source": [
    "<h2>Basic Functions</h2>"
   ]
  },
  {
   "cell_type": "code",
   "execution_count": 1,
   "id": "603c46e6-7fcb-4057-a3cf-e9cc9520a827",
   "metadata": {},
   "outputs": [],
   "source": [
    "Object = require('classic')\n",
    "require('DataFrame')"
   ]
  },
  {
   "cell_type": "code",
   "execution_count": 2,
   "id": "7a2150da-032d-46aa-8f8a-f178f37a45df",
   "metadata": {},
   "outputs": [],
   "source": [
    "\n",
    "function dot(x,y)\n",
    "    sum = 0\n",
    "    for i = 1, #x do sum = sum + (x[i] * y[i]) end\n",
    "\n",
    "    return sum\n",
    "end\n",
    "\n",
    "function relu(x)\n",
    "    local out = {}\n",
    "    for i = 1, #x do\n",
    "        table.insert(math.max(x[i],0))\n",
    "    end\n",
    "    return out\n",
    "end\n",
    "function absoluteError(x,y)\n",
    "\n",
    "    local sum = 0\n",
    "    for i = 1, #x do\n",
    "        sum = sum + math.abs(x[i] - y[i])\n",
    "    end\n",
    "    return sum\n",
    "end\n",
    "\n",
    "function meanAbsoluteError(x,y)\n",
    "    local out = {}\n",
    "    for i= 1, #x do\n",
    "        table.insert(out, absoluteError(x[i], y[i]))\n",
    "    end\n",
    "    local sum = 0\n",
    "    for i= 1, #out do\n",
    "        sum = sum + out[i]\n",
    "    end\n",
    "    return sum / #out\n",
    "end\n",
    "    "
   ]
  },
  {
   "cell_type": "code",
   "execution_count": 3,
   "id": "cc6bef3c-1cca-4c3e-ab2f-d2fc0107fd45",
   "metadata": {},
   "outputs": [],
   "source": [
    "x = DataFrame('input.csv',','):rows()\n",
    "y = DataFrame('target.csv',','):rows()\n",
    "table.remove(y,1)"
   ]
  },
  {
   "cell_type": "code",
   "execution_count": null,
   "id": "e6fde2bc-ec18-4f83-a5b6-6d7ad3c4cd5b",
   "metadata": {},
   "outputs": [],
   "source": []
  },
  {
   "cell_type": "code",
   "execution_count": null,
   "id": "8c6c5828-e80c-4794-be5f-bb87edd40ec7",
   "metadata": {},
   "outputs": [],
   "source": []
  },
  {
   "cell_type": "markdown",
   "id": "a09bfff7-ce3d-42f9-b091-accd8bf2f6ef",
   "metadata": {
    "tags": []
   },
   "source": [
    "<h2>Helper Classes</h2>"
   ]
  },
  {
   "cell_type": "code",
   "execution_count": 4,
   "id": "a9e47fcc-bd74-4621-a82f-a73729e33737",
   "metadata": {},
   "outputs": [],
   "source": [
    "Neuron = Object:extend()\n",
    "function Neuron:new(size)\n",
    "    self.weights = {}\n",
    "    for i = 1, size do\n",
    "        table.insert(self.weights, math.random(0, 200) / 100) \n",
    "    end\n",
    "    self.bias =  math.random(0, 200) / 100\n",
    "end\n",
    "\n",
    "function Neuron:copy()\n",
    "    local other = Neuron(#self.weights)\n",
    "    for i = 1, #self.weights do\n",
    "        other.weights[i] = self.weights[i]\n",
    "    end\n",
    "    other.bias = self.bias\n",
    "    return other\n",
    "end\n",
    "\n",
    "function Neuron:__tostring()\n",
    "    local w = \"Weights: [\"\n",
    "    for i=1, #self.weights do\n",
    "        w = w ..  self.weights[i] .. ' '\n",
    "    end\n",
    "    w = w ..  '] '\n",
    "  return  w .. \"Bias: \" .. self.bias\n",
    "end\n",
    "\n",
    "Layer = Object:extend()\n",
    "\n",
    "function Layer:new(inputs, neurons)\n",
    "    self.n = {}\n",
    "    for i =1, neurons do\n",
    "        table.insert(self.n,Neuron(inputs))\n",
    "    end\n",
    "end\n",
    "\n",
    "function Layer:copy()\n",
    "    local other = Layer(#self.n[1].weights, #self.n)\n",
    "    for i =1, #self.n do\n",
    "         other.n[i] = self.n[i]:copy()\n",
    "    end\n",
    "    return other\n",
    "end\n",
    "\n",
    "function Layer:__tostring()\n",
    "    local w = \"Layer: \"\n",
    "    for i=1, #self.n do\n",
    "        w = w .. self.n[i]\n",
    "    end\n",
    "  return  w\n",
    "end\n",
    "\n",
    "function Layer:print()\n",
    "    local w = \"Layer: \"\n",
    "    for i=1, #self.n do\n",
    "        print(self.n[i])\n",
    "    end\n",
    "end\n",
    "\n",
    "\n",
    "layer = Layer(4,2)\n",
    "\n"
   ]
  },
  {
   "cell_type": "markdown",
   "id": "60ba6e2e-8368-449d-ba5c-7f17e2ae7c83",
   "metadata": {},
   "source": [
    "<h2>Feed Forward Neural Net Class</h2>"
   ]
  },
  {
   "cell_type": "code",
   "execution_count": 5,
   "id": "667b4d26-75b9-42c4-867d-d3f880f3cd64",
   "metadata": {},
   "outputs": [],
   "source": [
    "FeedForward = Object:extend()\n",
    "function FeedForward:new(inputs, layers )\n",
    "    self.act = relu\n",
    "    self.l = {}\n",
    "    table.insert(self.l, Layer(inputs, layers[1]))\n",
    "    for i = 2, #layers do\n",
    "        table.insert(self.l, Layer(#self.l[i-1].n, layers[i]))\n",
    "    end\n",
    "    self.history = {self.l}\n",
    "    \n",
    "end\n",
    "\n",
    "function FeedForward:copy_net(l)\n",
    "    local other = {}\n",
    "    for i = 1, #l do\n",
    "        table.insert(other, l[i]:copy()) \n",
    "    end\n",
    "    return other\n",
    "end  \n",
    "\n",
    "function FeedForward:print()\n",
    "    for i=1, #self.l do\n",
    "        print(\"Layer: \" .. i)\n",
    "        self.l[i]:print()\n",
    "        print('\\n')\n",
    "    end\n",
    "end\n",
    "\n",
    "function FeedForward:runLayer(layer, inputs)\n",
    "    local out = {}\n",
    "    for i = 1, #layer.n do\n",
    "        table.insert(out, dot(layer.n[1].weights, inputs))\n",
    "    end\n",
    "    return out\n",
    "end\n",
    "\n",
    "function FeedForward:forward(inputs)\n",
    "    local out = {}\n",
    "    for j=1, #inputs do\n",
    "        local feed = inputs[j]\n",
    "        for i =1, #self.l do\n",
    "\n",
    "            feed = self:runLayer(self.l[i], feed)\n",
    "\n",
    "        end\n",
    "        table.insert(out, feed)\n",
    "    end\n",
    "    return out\n",
    "end\n",
    "\n",
    "\n",
    "\n",
    "function FeedForward:update(x,y)\n",
    "    local mae = meanAbsoluteError(x,y)\n",
    "    for i = 1, #self.l do\n",
    "        for j = 1, #self.l[i].n do\n",
    "            for k = 1, #self.l[i].n[j].weights do\n",
    "                self.l[i].n[j].weights[k] = self.l[i].n[j].weights[k] + (math.random(-100,100) / 100) * mae\n",
    "            end\n",
    "        end\n",
    "    end\n",
    "end \n",
    "\n",
    "function FeedForward:train(x,y, iters)\n",
    "    local mae = meanAbsoluteError(self:forward(x),y)\n",
    "    print(mae)\n",
    "    \n",
    "    local best = self:copy_net(self.l)\n",
    "    for i = 1, iters do\n",
    "        \n",
    "        self:update(self:forward(x),y)\n",
    "        if meanAbsoluteError(self:forward(x),y) < mae then\n",
    "            mae = meanAbsoluteError(self:forward(x),y)\n",
    "            print('Improved iter = ' .. i.. ' MAE = ' .. mae)\n",
    "            best = self:copy_net(self.l)\n",
    "            table.insert(self.history, self.l)\n",
    "        else\n",
    "            \n",
    "            self.l = self:copy_net(best)\n",
    "        end\n",
    "        \n",
    "        \n",
    "    end\n",
    "    print(meanAbsoluteError(self:forward(x),y))\n",
    "end\n",
    "    \n",
    "\n"
   ]
  },
  {
   "cell_type": "markdown",
   "id": "cb0a3567-83e4-431b-8a4e-08593866466a",
   "metadata": {},
   "source": [
    "<h2>Running the Model</h2>"
   ]
  },
  {
   "cell_type": "code",
   "execution_count": 6,
   "id": "fc67a0af-ee50-4c56-b4f4-0c60a0f83735",
   "metadata": {},
   "outputs": [],
   "source": [
    "nn = FeedForward(2, {2,1})"
   ]
  },
  {
   "cell_type": "code",
   "execution_count": 7,
   "id": "30ef5f12-1a26-41da-9cf1-8e033b2a00de",
   "metadata": {},
   "outputs": [
    {
     "name": "stdout",
     "output_type": "stream",
     "text": [
      "{ { -7.0818530684175 } } \n",
      "49.194858103192 \n",
      "Improved iter = 18 MAE = 37.393284869514 \n",
      "Improved iter = 68 MAE = 7.1839953106567 \n",
      "Improved iter = 95 MAE = 3.3572719062279 \n",
      "Improved iter = 155 MAE = 1.9920638012829 \n",
      "Improved iter = 196 MAE = 1.5205563361569 \n",
      "Improved iter = 241 MAE = 0.16051216921696 \n",
      "Improved iter = 299 MAE = 0.13997372278404 \n",
      "Improved iter = 401 MAE = 0.11626820905704 \n",
      "Improved iter = 467 MAE = 0.049763201782986 \n",
      "Improved iter = 612 MAE = 0.030419360935125 \n",
      "Improved iter = 763 MAE = 0.025560509425603 \n",
      "Improved iter = 826 MAE = 0.013276465189396 \n",
      "Improved iter = 947 MAE = 0.0029374848796395 \n",
      "0.0029374848796395 \n"
     ]
    }
   ],
   "source": [
    "x = DataFrame('input.csv',','):rows()\n",
    "y = DataFrame('target.csv',','):rows()\n",
    "table.remove(y,1)\n",
    "print(nn:forward({x[2]}))\n",
    "nn:train(x,y,1000)\n"
   ]
  },
  {
   "cell_type": "markdown",
   "id": "530a09a7-c7ab-43b5-b9a2-76c5d6fc5433",
   "metadata": {},
   "source": [
    "<p>Above the model is demonstrated to run properly for a toy data set and <i>mean absolute error</i> decreases over time. "
   ]
  },
  {
   "cell_type": "code",
   "execution_count": null,
   "id": "956b4371-3d9f-4cc8-be17-b2c4c48970d9",
   "metadata": {},
   "outputs": [],
   "source": []
  },
  {
   "cell_type": "code",
   "execution_count": null,
   "id": "bec2608f-b596-469a-a1ec-b6a89d1cdeb2",
   "metadata": {},
   "outputs": [],
   "source": []
  },
  {
   "cell_type": "code",
   "execution_count": null,
   "id": "7ab99724-708e-4a0d-8354-b85fd6bd811a",
   "metadata": {},
   "outputs": [],
   "source": []
  },
  {
   "cell_type": "code",
   "execution_count": null,
   "id": "14c5d0f6-184a-4b95-bf3b-60fbabf96c29",
   "metadata": {},
   "outputs": [],
   "source": [
    "\n"
   ]
  },
  {
   "cell_type": "code",
   "execution_count": null,
   "id": "87144ba8-050e-453c-9e8a-d900869fb924",
   "metadata": {},
   "outputs": [],
   "source": []
  },
  {
   "cell_type": "code",
   "execution_count": null,
   "id": "5cb49866-c8af-47e0-8e5c-769d9a92dac5",
   "metadata": {},
   "outputs": [],
   "source": []
  },
  {
   "cell_type": "code",
   "execution_count": null,
   "id": "0e120c7b-78c6-4182-902e-aec516531d47",
   "metadata": {},
   "outputs": [],
   "source": []
  }
 ],
 "metadata": {
  "kernelspec": {
   "display_name": "Lua  (XLua)",
   "language": "lua",
   "name": "xlua"
  },
  "language_info": {
   "file_extension": ".lua",
   "mimetype": "text/x-luasrc",
   "name": "lua",
   "version": "14.0.0"
  }
 },
 "nbformat": 4,
 "nbformat_minor": 5
}
