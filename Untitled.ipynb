{
 "cells": [
  {
   "cell_type": "markdown",
   "id": "758771b6-526b-4b26-b381-5a59b5d3c8f3",
   "metadata": {
    "tags": []
   },
   "source": [
    "<h2>Basic Functions</h2>"
   ]
  },
  {
   "cell_type": "code",
   "execution_count": 126,
   "id": "603c46e6-7fcb-4057-a3cf-e9cc9520a827",
   "metadata": {},
   "outputs": [],
   "source": [
    "Object = require('classic')"
   ]
  },
  {
   "cell_type": "code",
   "execution_count": 179,
   "id": "7a2150da-032d-46aa-8f8a-f178f37a45df",
   "metadata": {},
   "outputs": [],
   "source": [
    "function dot(x,y)\n",
    "    sum = 0\n",
    "    for i = 1, #x do sum = sum + (x[i] * y[i]) end\n",
    "\n",
    "    return sum\n",
    "end\n",
    "\n",
    "function relu(x)\n",
    "    local out = {}\n",
    "    for i = 1, #x do\n",
    "        table.insert(math.max(x[i],0))\n",
    "    end\n",
    "    return out\n",
    "end\n",
    "function absoluteError(x,y)\n",
    "    local errors = 0\n",
    "    for i = 1, #x do\n",
    "        sum = sum + math.abs(x[i] - y[i])\n",
    "    end\n",
    "    return sum\n",
    "end\n",
    "    "
   ]
  },
  {
   "cell_type": "markdown",
   "id": "a09bfff7-ce3d-42f9-b091-accd8bf2f6ef",
   "metadata": {
    "tags": []
   },
   "source": [
    "<h2>Helper Classes</h2>"
   ]
  },
  {
   "cell_type": "code",
   "execution_count": 171,
   "id": "a9e47fcc-bd74-4621-a82f-a73729e33737",
   "metadata": {},
   "outputs": [],
   "source": [
    "Neuron = Object:extend()\n",
    "function Neuron:new(size)\n",
    "    self.weights = {}\n",
    "    for i = 1, size do\n",
    "        table.insert(self.weights, math.random(0, 200) / 100) \n",
    "    end\n",
    "    self.bias =  math.random(0, 200) / 100\n",
    "end\n",
    "\n",
    "function Neuron:__tostring()\n",
    "    local w = \"Weights: [\"\n",
    "    for i=1, #self.weights do\n",
    "        w = w ..  self.weights[i] .. ' '\n",
    "    end\n",
    "    w = w ..  '] '\n",
    "  return  w .. \"Bias: \" .. self.bias\n",
    "end\n",
    "\n",
    "Layer = Object:extend()\n",
    "\n",
    "function Layer:new(inputs, neurons)\n",
    "    self.n = {}\n",
    "    for i =1, neurons do\n",
    "        table.insert(self.n,Neuron(inputs))\n",
    "    end\n",
    "end\n",
    "\n",
    "function Layer:__tostring()\n",
    "    local w = \"Layer: \"\n",
    "    for i=1, #self.n do\n",
    "        w = w .. self.n[i]\n",
    "    end\n",
    "  return  w\n",
    "end\n",
    "\n",
    "function Layer:print()\n",
    "    local w = \"Layer: \"\n",
    "    for i=1, #self.n do\n",
    "        print(self.n[i])\n",
    "    end\n",
    "end\n",
    "\n",
    "\n",
    "layer = Layer(4,2)\n",
    "\n"
   ]
  },
  {
   "cell_type": "markdown",
   "id": "60ba6e2e-8368-449d-ba5c-7f17e2ae7c83",
   "metadata": {},
   "source": [
    "<h2>Feed Forward Neural Net Class</h2>"
   ]
  },
  {
   "cell_type": "code",
   "execution_count": 192,
   "id": "667b4d26-75b9-42c4-867d-d3f880f3cd64",
   "metadata": {},
   "outputs": [
    {
     "name": "stdout",
     "output_type": "stream",
     "text": [
      "{ { 74.27582448 } } \n",
      "1 \n",
      "2 \n",
      "1 \n",
      "2 \n",
      "3 \n",
      "1 \n",
      "2 \n",
      "3 \n",
      "4 \n",
      "1 \n"
     ]
    }
   ],
   "source": [
    "FeedForward = Object:extend()\n",
    "function FeedForward:new(inputs, layers )\n",
    "    self.act = relu\n",
    "    self.l = {}\n",
    "    table.insert(self.l, Layer(inputs, layers[1]))\n",
    "    for i = 2, #layers do\n",
    "        table.insert(self.l, Layer(#self.l[i-1].n, layers[i]))\n",
    "    end\n",
    "    \n",
    "end\n",
    "\n",
    "function FeedForward:print()\n",
    "    for i=1, #self.l do\n",
    "        print(\"Layer: \" .. i)\n",
    "        self.l[i]:print()\n",
    "        print('\\n')\n",
    "    end\n",
    "end\n",
    "\n",
    "function FeedForward:runLayer(layer, inputs)\n",
    "    local out = {}\n",
    "    for i = 1, #layer.n do\n",
    "        table.insert(out, dot(layer.n[1].weights, inputs))\n",
    "    end\n",
    "    return out\n",
    "end\n",
    "\n",
    "function FeedForward:forward(inputs)\n",
    "    local out = {}\n",
    "    for j=1, #inputs do\n",
    "        local feed = inputs[j]\n",
    "        for i =1, #self.l do\n",
    "\n",
    "            feed = self:runLayer(self.l[i], feed)\n",
    "\n",
    "        end\n",
    "        table.insert(out, feed)\n",
    "    end\n",
    "    return out\n",
    "end\n",
    "\n",
    "function FeedForward:update(x,y)\n",
    "    for i = 1, #self.l do\n",
    "        for j = 1, #self.l[i].n do\n",
    "            for k = 1, #self.l[i].n.weights do\n",
    "                print(#self.l[i].n.weights)\n",
    "            end\n",
    "        end\n",
    "    end\n",
    "end \n",
    "nn = FeedForward(3, {2,3,4,1})\n",
    "nn:forward({{1,1,3}})\n",
    "print(nn:forward({{1,1,3}}))\n",
    "nn:update()"
   ]
  },
  {
   "cell_type": "code",
   "execution_count": null,
   "id": "30ef5f12-1a26-41da-9cf1-8e033b2a00de",
   "metadata": {},
   "outputs": [],
   "source": []
  },
  {
   "cell_type": "code",
   "execution_count": 190,
   "id": "7189cd76-6546-4ed4-9e52-c9e96ae7f484",
   "metadata": {},
   "outputs": [
    {
     "name": "stdout",
     "output_type": "stream",
     "text": [
      "{ { 75.74576016 } } \n"
     ]
    },
    {
     "ename": "[string \"FeedForward = Object:extend()...\"]:44: attempt to get length of a nil value (field 'n')",
     "evalue": "[string \"FeedForward = Object:extend()...\"]:44: attempt to get length of a nil value (field 'n')",
     "output_type": "error",
     "traceback": [
      "[string \"FeedForward = Object:extend()...\"]:44: attempt to get length of a nil value (field 'n')"
     ]
    }
   ],
   "source": [
    "nn = FeedForward(3, {2,3,4,1})\n",
    "nn:forward({{1,1,3}})\n",
    "print(nn:forward({{1,1,3}}))\n",
    "nn:update()"
   ]
  },
  {
   "cell_type": "code",
   "execution_count": null,
   "id": "956b4371-3d9f-4cc8-be17-b2c4c48970d9",
   "metadata": {},
   "outputs": [],
   "source": []
  },
  {
   "cell_type": "code",
   "execution_count": null,
   "id": "bec2608f-b596-469a-a1ec-b6a89d1cdeb2",
   "metadata": {},
   "outputs": [],
   "source": []
  }
 ],
 "metadata": {
  "kernelspec": {
   "display_name": "Lua  (XLua)",
   "language": "lua",
   "name": "xlua"
  },
  "language_info": {
   "file_extension": ".lua",
   "mimetype": "text/x-luasrc",
   "name": "lua",
   "version": "14.0.0"
  }
 },
 "nbformat": 4,
 "nbformat_minor": 5
}
