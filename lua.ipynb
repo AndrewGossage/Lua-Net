{
 "cells": [
  {
   "cell_type": "code",
   "execution_count": 12,
   "id": "1020d8fd-0615-4a64-87ee-4b15ab05660c",
   "metadata": {},
   "outputs": [],
   "source": [
    "function dot(x,y)\n",
    "    sum = 0\n",
    "    for i = 1, #x do sum = sum + (x[i] * y[i]) end\n",
    "    return sum\n",
    "end\n",
    "\n",
    "function relu(x)\n",
    "    return math.max(x,0)\n",
    "end\n",
    "\n",
    "function makeNet(x)\n",
    "    \n",
    "end"
   ]
  },
  {
   "cell_type": "code",
   "execution_count": 9,
   "id": "85aec9b1-f9fb-4ef8-82dd-27afbd6efe58",
   "metadata": {},
   "outputs": [
    {
     "name": "stdout",
     "output_type": "stream",
     "text": [
      "15 \n"
     ]
    }
   ],
   "source": [
    "x = {1,2,3,4,5}\n",
    "y = {1,1,1,1,1}\n",
    "print(dot(x,y))"
   ]
  },
  {
   "cell_type": "code",
   "execution_count": null,
   "id": "3f04acb9-c990-4317-ae27-bae9306aaf7f",
   "metadata": {},
   "outputs": [],
   "source": [
    "function forward(nn, data):\n",
    "        out = {}\n",
    "        for i=1, #data:\n",
    "            foo = i\n",
    "            for layer=1, #nn:\n",
    "                \n",
    "                foo = [dot(foo, neuron[0]) + neuron[1] for neuron in layer]\n",
    "            out.append(foo)\n",
    "                \n",
    "        return out"
   ]
  },
  {
   "cell_type": "code",
   "execution_count": 16,
   "id": "fb08d007-dfd7-4f89-936d-fbb1fdd5ad3c",
   "metadata": {},
   "outputs": [],
   "source": [
    "nn = {\n",
    "\n",
    "    {\n",
    "        {{1,1,1,1},1},\n",
    "        {{1,1,1,1},1}\n",
    "        \n",
    "    },\n",
    "    {\n",
    "        {{1,1},-1},\n",
    "        \n",
    "    },\n",
    "}\n",
    "    "
   ]
  },
  {
   "cell_type": "code",
   "execution_count": null,
   "id": "79a8ebb1-2e4f-442c-accc-f77c23a60901",
   "metadata": {},
   "outputs": [],
   "source": []
  }
 ],
 "metadata": {
  "kernelspec": {
   "display_name": "Lua  (XLua)",
   "language": "lua",
   "name": "xlua"
  },
  "language_info": {
   "file_extension": ".lua",
   "mimetype": "text/x-luasrc",
   "name": "lua",
   "version": "14.0.0"
  }
 },
 "nbformat": 4,
 "nbformat_minor": 5
}
